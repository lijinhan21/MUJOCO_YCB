{
 "cells": [
  {
   "cell_type": "code",
   "execution_count": 22,
   "metadata": {},
   "outputs": [
    {
     "data": {
      "text/html": [
       "<table class=\"show_images\" style=\"border-spacing:0px;\"><tr><td style=\"padding:1px;\"><img width=\"320\" height=\"240\" style=\"image-rendering:auto; object-fit:cover;\" src=\"data:image/png;base64,iVBORw0KGgoAAAANSUhEUgAAAUAAAADwCAIAAAD+Tyo8AAAT1klEQVR4nO3dW3PcRpIF4JNZBaBvJEXJHnt2J2J3/v8Pm73YEsVuNC5VlbkPhaZ3ZuyxJVHqZvN8oRc7LAlN8hhAVWUmQERERERERERERERERERERERERERERERERERERERERERERERERERERERERERERERERERERERERERERERERERERERERERERERERERERERERERERERERERERERERERERERERERERERERERERERERERERERERERERERERERERERERERERERERERERERERERERERERERERERERERERERERERERPQ1yLkvgL6pGGPbNhBR1cP+cO7LoS/FAL8KIYab3c3t3a2qigAQwIdh+K+//fe5L42+SDz3BdAXubu7VdU0z23XHY/DOI7//N+EEO7v34QQc84iIipmDncrZb1aDb/2W+ilYIBfnpvdNjbNzc0uxAgRuKeU3H293Vgp0zjt9wd3d/cYY9PE29sbMzM44Kv1ajwOcBOR9Xpl5gzwi8YAvxhv7m62u916vYYIgGJWcs65ABCBiIiIxhh3cbVZCyTEEENw95xzGscQm93NToHB8nc//Ghmbi4h/vTTz+f+ZPT5+A586bbbTdM0b9/eN20LoJSSUi5W3B2AygKAw93czMxcgwYNEJRSzGy16rq2GY/DNI6r7dYd5gbAzff7w8OHh7N+RPp8vANfrhjjd9+/67qubTt3n6a5lFyKmZU8TxqbtmtFxR1mp+C6AxARNzNI2za77bpt25Ty4eF97Nbtej1PUy7FzUOM69WqLmrRC8UAX6ibm939u/vNejtO4zAczb3kEoKGEGIMAtfYuHnKaRyOAGLbCSAiouruORfRMqe573vA27Zt2k5ESi5N0643zWq16to2xvD4uD/3Z6XPxwBfopub3Y9//rO7PT5+FBEHRKRpIoBiZqWohuV+696t1yWloAoRAUIIcLgnEWm7TiFDv++aZr3ZzPPcdd3NzW69Xtcwz/Ps5uf+uPT5GOCLc3t78+9/+cuc5nEYNAQBQlB3OPy4P0AQm9bc4Q7AAYXEpvW6niGIMfaH/vb2JsY4DuOcp7s399M0Th8eIBKCTuNkpaScUso551zyuT8xfT6+/1yWu7u7H//tx3me0zy7ewgqInUlWdzNYaegwgHAfVmCXn6/iIrsH/dNjBqk69al5GKW5gTA3VRD2zaqmnNOKRezY3/MmRl+qXgHviDb7eZPP/5pGiezEptYchZgPA4Acs7urioQUQ2iCohI3Qb2XwLsLqohaLvqckqHw2FOyd3TnEIITduI+ThNVooDViyldM4PTF+Md+AL8te//qe5lVJi0+SU5nkqKeWUNQRVccec0ps3b+qzLwBRCbGpa1fLHyEQyNDvJTT94ThN0z/8FTHGUpYtKLoCvANfih9+/KGmV0SGYz9Ps7uVYk2MEDEzB0op4zhtd9uUs+XkZmWaAEjQpu1KThqjmYXYTNP8z+kFwKflK8MAX4T1er1er2q6xnGcxgnwEIKK51wggHuIwR3DMOx22ybGIgKg6SAqaZrSNIrI2PexaSyn3Wa13/fn/lj01THAF+GHH39IaQYwT/MwDDW9tzdbdxwOfcrZ3QMEgFkZhmG72xYzMwuKAA9taNbR3BVNzhlN8z8fWCr4KjDA5/fu3btaJzSO4ziMZkVVQ5CUMyC5WCmmcIGLiJkd++Nuu920seQkXpooXROCSilm7t40ZvbO1u52HLlGdeUY4DNr22Z7s3WzeZ7HYSwlt01jVpqmNcex7+c5AZ6LFXNfyhjKOBx3q9CgHKd5nqS57RwqqupuZqp6d7tOmQG+fgzwmX3//Z8UGOf5sO/drW3b1apT1XEYs1maU61eAICUAaxWnbvP0zi5blaxCQpBySYKDaIiUBU3FXl7tz4cp/3xV5ay6GrouS/gVVutVqtVO45j3x/NLITQNE2MMaU8pzQNY0p5Se9JLsUdxWyYC0peN9pFdXcrBVYe9sf3Hw5NCHBrYvj+fnOuj0bfBu/A53R//2aapsOhr7tHbdt0XTsMY98f3X1Ov7Llk1MWwC26oLgE8VCPXwlyzlHl9m6Nel5L0LXNetUMfJC+XrwDn1ONa0rJzVartuu6YRj3hz6XMs+/mbqU8jhnB1KpJcGo5yqbqLtOuigqoipwb5pwt1t9s49D3x4DfDar1Wqe0ziOqtqt2hjjNM2HQ29mJZd//XuHcdofp1xcNQJQCBxmDsCKiSCoikCANzerruVz1tVigM+mlDxPk5upSggRkL7v3f1301uNUypmxcWh7rY05DAvuZRc3K0W+jcx3G15E75aDPDZiCjgGkKMsYmx73szL8X++J/weJymeQakFgYLxB3mbqW4Gdxqa7v7u/WKN+Erxe/r2ZSS++PQNI2oHMdxTrl2tPrjf8L+OIdwvN+tHX7ThRBEIO7FDVb/B+EOIKhsN+048xT0FeId+GxKsdrgyopN4+Tmn1Fp8LAf98P08TDVTjqqCmgxd7P6cG7ugN/frJsYvsanoPNigM9pteqC6jTNZvbZdULTXLo2uKs74KhN6k4P1ahL1DHo3a57zkuny8AAn5OZaQjmX1Sfuz9O45TnXCACuKiKqNVWlW4CNzcVub/d8CZ8fRjgc8o555QEUsofWnn+LQ+HcZhzMSzNolUBcaDehFXE3YLK29v181w3XQwG+JysGETKc7SV+7AfplTMBW449ehwc4GrQFRFcLdb7dbtl/9ddDkY4HPKpQzD9ElbR79lf5x+ejxmg5kAEBVAIOLuWjMsoirfveHp6KvCAJ/Tl6xd/bOH/ThM6fTkLCLiyzO1i5sKINI08Q0PV14RBviqvN8PqdRW7bXrLACYAW5uJnAAb3mu44owwFflsZ/6cTYHHHB/mnsGd4UpLKiEEL5/sz33ldLzYICvzcNhnNMva9q136wD7i7woB6Dtl3DKqXrwABfm/1x/t+HY7HaQMvdfcmwu7upm8BCUJ7Nug4M8BWai41z3VJaxo1i2VgSuItbgDdN5Ir0FWCAr1A/zD99HMxcVAVwh58qlgwOuKAobN3F2y3PV75sDPB1GlMe5wwo4CFoUHWHu7u51dMd6lHlftc1kT8DLxi/eddpmPLPj0MpBoi4Q0RPgw7hdcyhqXiM4R3PV75kDPDVmnKZcoEEEYebqsYYVPU00BAq0kRZr5rtujn3xdJnYoCv1jDl9/vh6R4Mh2oIIdQelvWNWNy7Nry728TAn4QXid+2azZnm+ZUTHXptgOIiEC01gk74OLexnB/w23hF4kBvmbHMf38OOSlWMLdXURVVUVVRVTq5nAMuN12NxsWKr08DPCVm4tNczaHAG4mIiIKqfWFUJG6xdREeXe3aXm046VhgK/c6SbsDsm5WL0bO2oNY30dri1p2ya8u+OK9AvDAF+/VGzOpb7+mltdgn7aUnrqSqvi23XDox0vCwN8/fox/bwfcnHV4MXM3F0gKiqnVlwCQNxjkO/u1uuOxYYvBgP8KuTiKWVAHO5wW5roiQCqooplcxhoon53t16KEOniMcCvwmGY+ykVs9rt3d3hS7l/PdFR5xvWEuJV13BX6aVggF+L/TCnVGpBEtzcDYCdRqLpqQ8e3FRwf8P2dy8DA/xaHIY0pGxP5YWorSrldDjaBS7wOp1FVd7drfkcffkY4FfksZ9SKvWV18wFUNU6Em0hy5J0VLQxsP3d5WOAX5H9kKaczZYXXgGCaggisqxriQgEKvXIh9/f8kH60jHAr8vDYc5mDlUVN/NS6nmsoLX/nYhozbcAQeTt7ZrP0ZeMAX5d9sM8TNkBEa0jmRwK0aUTvNYjlsv+sKq0jb7hivQFY4BfnY/9mLLVsDrqspWinqg0czMRqGrdHA6qbRNYbHix+I15dR6P85yKuUPUzeDLVHGR+sMgAOoDdT3dcbdd3bNrx6VigF+j9/shZQMUUPhSolRnGgK+HPAABFCBKO623ZarWReJAX6NHo/zlEpx01CflPG05evutZNlbQRfS/8d/sP9pm1YbHhxGOBX6uEw5mwChYq5ax1eqIrTZPCaYYWL23FIKhwvfIkY4FfqYz/NqRSHQ+ZsQD2ApRoCpN503d3NHIJ1F8x908XNiu3vLgsD/Hp9OIwpZ9W4aQNO5Q0iIhrqgtbSN8u9i9q1IQb9jhX/F4YBfr0+9tOccirmdeSKALBTnaFqUCzvxl7PdRyn3MZwy9ZZl4QBftXe78c0z+YCQODiEAhk+VXrk+pIJQBdo/2Y3t6u2TrrcjDAr1rdEy7mLlqr/N1NgLqFdNpLqv/sXRPublZN1Psbtt25FAzwa1ffhB3qthT313Mdqk+jhQGHm7mbwFXDdt2uWrbduQgM8Gv3eJzHOediJuoOgWudBi4SQhAVUfX6TO3uZqqIgf0rLwUDTMtqFkStLkIL6o1XVUNdy/KlY1ao3aQVqzZsuaV0ARhgwv44Px6nUhwSlg6VcDMTuJ7Od9T+0eOchynNqQTVt7esUjo/BpgAoB/maU6AmEMEp+dlA1xEoqqqiKCLCkfKJWVrm8BpLGfHABNQe0c/9rmYQ91F4fUnw0rtYQkF6qrWupU2agiiqm9vVsrGWWfFANPi4TCN8+SALVu/tcsO3JYM1+PSotJFbYKoIMaw42zhs2KA6RfvP9ZRhuqncmAAEgLk6XBlbSftT2tab29XTeRP0dnwS0+/eOinYZrN3esPhi+t3jVoiLG2oV2emOtsYXEN+o6rWefDANPfef84THMyh0NrD+l6s3V3UYUoICrL+3DthrfumlXLw5XnwQDT33k8zsOcihkkyKn77MJreZJDns5pIYioKkuFz4UBpn/0sZ/nVJbOlahzz5ZxaKcCh3rvfQoz1l3ccKbhOTDA9I/2x/nnx2POxaACcXP4Mr6wLkXD4W6Aq9a+WSKi7zjT8BwYYPoVhyENU60UDvBTZT+W7aTaqcPNYY7TcnTbhNsNt5S+NQaYfkUu9n4/pFyg4WkW2tJxVmVpCu/LllKdihZC+O5uw9Wsb4wBpl/3eJyHeU65QLSY+9J9VtyhGpapaLZ0hq8nPkSEhyu/MQaYftPDYZpTLi4q4gZ4rVYSVVUNy6awO9zFHQ5V2a4armZ9Swww/ab9cT7UV2EJIuLuMIMDMD113dHawnKpXkIM4Z6zlL4hBpj+lcfjXJejIeIGM6t9sk4LWKd+HW5BAUGIoW3C7ZY9d74RBpj+leOYfvrYF7O6W2Rmde3KIaJBNNQIK+BudX8phnC/69Z8kP4mGGD6HVMq05wNClEzd7N6oAOCelLLTrOUzKxOWopBbzhL6ZtggOl3DFP++eGQzVwkhIBf5ifVYiUsNQ6+7CcBriqbVXO74YP0V8cA0++rVUq5uIaI/3dA+rQivdQp1cphgalKjOFu2wbl2ayviwGmP+Tnj30pxSWIhnoqK6gAUguSRCQErctZ9WyWADGGNzvehL8uBpj+kMd+mlJxM3PUFh113gpEUKeyOMJTL2m3oAiqu3XD1ayvigGmP+r94zGVInVL6WkSGlDczdxQRyqJAG7u5jFIjPHd7Yo1Dl8PA0x/1DKHxR0a/TQBvBYoQVVVfekIjxBEFYDHoA3noX1NDDB9gvePx5QyILZMD7Y6h8W9Lk2rA2bmZu7u5iISY3yz69YcxfJ1MMD0CQ7DnHIxh2hE7c5RV61kyTAAd5i5W4G7m9UMv73latZXwQDTJyjm7/dDylk0OERrsyx3AFor/h11TwkQCNwNZqrStQ0Llb4GBpg+TSo2z9lcRNXraawaYwCoi1vLqnSdVKoKgYQQ7m/YgPb58QtKn+Y4pg+HoU4krQtYAGrRv+hS7l/PdmSDqMBrhj0G3XEe2nNjgOmTpWwpJXNBXWtemmaJQESX5+qUvZ/KOBUI6tEOFbnbddsVV7OeEwNMn6wf0zCnbAXQGll3A4C6rQQ385SLO+Zsc8q1A14IWh+keb7yGTHA9Dke+zmlbA5fWt7BzQCoijvcfNPorpWoiIqnBlohaNdErmY9IwaYPkc/pnFOxV01QnS59/ppppKKAzFIF+HmsowsdRXEGO93K7bdeS4MMH2mx35Oc8ruQB0fXKsLVUPQk/D07x0CCapN1M2q+eHNJgb+7D0DfhHpMx2GeUq5WF1rllNV4VJbuLS/i7Fpmq6J2fBhPzVSWsWqbW7X8Z6FSs+BAabP9/Ew5WyGGl8RiGOZ3iAiMYaujes2rCLWEW2jKXsUiYIYI8v9nwVfRejz7Yf5TcpNDCEGeFERh6tq1Caod40GQcklZ+2ivN0EB6aUAfl4nGsjHvpCDDB9kYfD2DWxaSKgAqhKG2XbNTeN9NPcTzZnN1uGo9Xz0kPKQ7bjmM597deAAaYvMkx5zqUzjxqDWNfGTRvaED6O+TBYKfY02tBPv7qoU7ZhZoCfAQNMXyQXe9gPTRM2Xbdp200XvZSf+iHnUu+3T4/KDqknph/GfBjmnO2c130tuIhFXyoVn6Y8zfNm1brLfsw5L5137HSGA6iDSNFP+eNhfOynM1/0tWCA6UsNU/rYjzFIytaPcy7FfCnpX8qVIIA4MBf/6XHo+fb7fPgITc8gF0vZhmkqxepDswg+9AmC+01nQMrlbx/6x+N87iu9NjxWTs/jftf9x59uVbS+9h6nsm5DKfa3D302+9gzul8FA0zPZrtqvr9bB1Vz9ON8GObjlM99UURERERERERERERERERERERERERERERERERERERERERERERERERERERERERERERERERERERERERERERERERERERERERERERERES/7/8AyFNloYbt06AAAAAASUVORK5CYII=\"/></td></tr></table>"
      ],
      "text/plain": [
       "<IPython.core.display.HTML object>"
      ]
     },
     "metadata": {},
     "output_type": "display_data"
    }
   ],
   "source": [
    "import os\n",
    "os.environ['MUJOCO_GL'] = 'egl' \n",
    "\n",
    "import mujoco\n",
    "import mujoco.viewer\n",
    "import mediapy as media\n",
    "\n",
    "base_file_path = './asset/ycb_merged_v2/xml'\n",
    "file_name = 'hammer.xml'\n",
    "\n",
    "model = mujoco.MjModel.from_xml_path(os.path.join(base_file_path, file_name))\n",
    "data = mujoco.MjData(model)\n",
    "\n",
    "with mujoco.Renderer(model) as renderer:\n",
    "    mujoco.mj_forward(model, data)\n",
    "    renderer.update_scene(data)\n",
    "    \n",
    "    media.show_image(renderer.render())"
   ]
  }
 ],
 "metadata": {
  "kernelspec": {
   "display_name": "humanoid",
   "language": "python",
   "name": "python3"
  },
  "language_info": {
   "codemirror_mode": {
    "name": "ipython",
    "version": 3
   },
   "file_extension": ".py",
   "mimetype": "text/x-python",
   "name": "python",
   "nbconvert_exporter": "python",
   "pygments_lexer": "ipython3",
   "version": "3.9.20"
  }
 },
 "nbformat": 4,
 "nbformat_minor": 2
}
